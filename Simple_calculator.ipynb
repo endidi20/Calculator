{
 "cells": [
  {
   "cell_type": "markdown",
   "id": "33173501",
   "metadata": {},
   "source": [
    "A simple calculator that can add, subtract, multiply or divide depending upon the input from the user."
   ]
  },
  {
   "cell_type": "code",
   "execution_count": 3,
   "id": "e5946ad7",
   "metadata": {},
   "outputs": [],
   "source": [
    "# The user will be prompted to enter the type of operation by entering 1/2/3/4. \n",
    "# If any other input is given, Invalid Input will be displayed and the loop will continue until a valid option is selected.\n",
    "# After that, the user needs to enter the first and the second number. Then the operation will be executed and printed. \n",
    "# Next, if the user says yes to the prompt ‘Let's do the next calculation? (yes/no):’, \n",
    "# The loop will start again by prompting the user to select the operation."
   ]
  },
  {
   "cell_type": "code",
   "execution_count": 4,
   "id": "e00f38aa",
   "metadata": {},
   "outputs": [
    {
     "name": "stdout",
     "output_type": "stream",
     "text": [
      "Select Operation \n",
      "1.Add \n",
      "2.Subtract \n",
      "3.Multiply \n",
      "4.Divide\n",
      "Enter choice(1/2/3/4) :3\n",
      "Enter first number: 26\n",
      "Enter second number: 9\n",
      "26.0 * 9.0 = 234.0\n",
      "lets do next caclulation? (yes/no):no\n"
     ]
    }
   ],
   "source": [
    "print('Select Operation \\n1.Add \\n2.Subtract \\n3.Multiply \\n4.Divide')\n",
    "\n",
    "# First define 4 functions that does each of the specified operation\n",
    "\n",
    "def addnums(x,y):\n",
    "    return x + y\n",
    "\n",
    "def subnums(x,y):\n",
    "    return x - y\n",
    "\n",
    "def pdtnums(x,y):\n",
    "    return x * y\n",
    "\n",
    "def divnums(x,y):\n",
    "    return x / y\n",
    "\n",
    "while True:\n",
    "    userIn = input('Enter choice(1/2/3/4) :')\n",
    "    if userIn in ('1','2', '3', '4'):\n",
    "        first_num = float(input('Enter first number: '))\n",
    "        second_num = float(input('Enter second number: '))\n",
    "        \n",
    "        if userIn == '1':\n",
    "            print(first_num, '+', second_num, '=', addnums(first_num, second_num))\n",
    "            \n",
    "        elif userIn == '2':\n",
    "            print(first_num, '-', second_num, '=', subnums(first_num, second_num))\n",
    "            \n",
    "        elif userIn == '3':\n",
    "            print(first_num, '*', second_num, '=', pdtnums(first_num, second_num))\n",
    "            \n",
    "        elif userIn == '4':\n",
    "            print(first_num, '/', second_num, '=', divnums(first_num, second_num))\n",
    "            \n",
    "        next_calc = input('lets do next caclulation? (yes/no):')\n",
    "        if next_calc == 'no':\n",
    "            break\n",
    "        \n",
    "else:\n",
    "    print('Invalid Input')\n",
    "    "
   ]
  }
 ],
 "metadata": {
  "kernelspec": {
   "display_name": "Python 3",
   "language": "python",
   "name": "python3"
  }
 },
 "nbformat": 4,
 "nbformat_minor": 5
}
